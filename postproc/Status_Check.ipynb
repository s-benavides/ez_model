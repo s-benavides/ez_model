{
 "cells": [
  {
   "cell_type": "markdown",
   "metadata": {
    "colab_type": "text",
    "id": "0IcAKJ4Muu2j"
   },
   "source": [
    "# EZ: Analysis"
   ]
  },
  {
   "cell_type": "code",
   "execution_count": 1,
   "metadata": {
    "colab": {},
    "colab_type": "code",
    "collapsed": false,
    "id": "O9tLGLNHqpqo",
    "jupyter": {
     "outputs_hidden": false
    }
   },
   "outputs": [],
   "source": [
    "import numpy as np\n",
    "import matplotlib.pyplot as plt\n",
    "import matplotlib.cm as cm\n",
    "import glob as glob\n",
    "import pdf_ccdf\n",
    "import h5py\n",
    "import sys\n",
    "sys.path.append('/home/santiago_b/ez_model/src/')\n",
    "import model as ez"
   ]
  },
  {
   "cell_type": "code",
   "execution_count": 2,
   "metadata": {},
   "outputs": [],
   "source": [
    "plt.rcParams.update({'font.size': 20})\n",
    "plt.rcParams[\"font.family\"] = \"serif\"\n",
    "plt.rcParams[\"mathtext.fontset\"] = \"cm\"\n",
    "plt.rcParams[\"font.serif\"] = \"Times New Roman\""
   ]
  },
  {
   "cell_type": "markdown",
   "metadata": {
    "colab_type": "text",
    "id": "3jyf4QFvwgIt"
   },
   "source": [
    "## Load data"
   ]
  },
  {
   "cell_type": "code",
   "execution_count": 3,
   "metadata": {},
   "outputs": [],
   "source": [
    "# Choose input directory\n",
    "# idir = '../200x40/'\n",
    "# idir = '../400x80/'\n",
    "# idir = '../128x128/'\n",
    "idir = '../256x256/'\n",
    "\n",
    "# Choose output directory\n",
    "odir = './Figures/'"
   ]
  },
  {
   "cell_type": "code",
   "execution_count": 4,
   "metadata": {},
   "outputs": [
    {
     "name": "stdout",
     "output_type": "stream",
     "text": [
      "['q_1d000000e-01', 'q_1d359356e-01', 'q_1d847850e-01', 'q_2d511886e-01', 'q_3d414549e-01', 'q_4d641589e-01', 'q_6d309573e-01', 'q_8d576959e-01', 'q_1d165914e+00', 'q_1d584893e+00', 'q_2d154435e+00', 'q_2d928645e+00', 'q_3d981072e+00', 'q_5d411695e+00', 'q_7d356423e+00', 'q_1d000000e+01']\n"
     ]
    }
   ],
   "source": [
    "# Searches through all directories in 'Data' folder (which are named after experiments) and imports the data:\n",
    "dirs = sorted(glob.glob(idir+'q*'))\n",
    "\n",
    "runs = []\n",
    "for file in dirs:\n",
    "    run = file.split('/')[2]\n",
    "    runs.append(run)\n",
    "\n",
    "# Sort run-names based on value of q_in\n",
    "runs = sorted(runs, key=lambda x: float(x.split('_')[1].replace('d','.')), reverse=False)\n",
    "\n",
    "print(runs)"
   ]
  },
  {
   "cell_type": "code",
   "execution_count": 5,
   "metadata": {},
   "outputs": [
    {
     "name": "stdout",
     "output_type": "stream",
     "text": [
      "[0.1, 0.1359356, 0.184785, 0.2511886, 0.3414549, 0.4641589, 0.6309573, 0.8576959, 1.165914, 1.584893, 2.154435, 2.928645, 3.981072, 5.411695, 7.356423, 10.0]\n"
     ]
    }
   ],
   "source": [
    "qins = [float(x.split('_')[1].replace('d','.')) for x in runs]\n",
    "print(qins)"
   ]
  },
  {
   "cell_type": "code",
   "execution_count": 6,
   "metadata": {},
   "outputs": [
    {
     "name": "stdout",
     "output_type": "stream",
     "text": [
      "q_in = 0.1, q_in real = 0.1\n",
      "q_in = 0.1359356, q_in real = 0.14285714285714285\n",
      "q_in = 0.184785, q_in real = 0.2\n",
      "q_in = 0.2511886, q_in real = 0.3333333333333333\n",
      "q_in = 0.3414549, q_in real = 0.5\n",
      "q_in = 0.4641589, q_in real = 0.5\n",
      "q_in = 0.6309573, q_in real = 1.0\n",
      "q_in = 0.8576959, q_in real = 1.0\n",
      "q_in > 1 1\n",
      "q_in > 1 1\n",
      "q_in > 1 2\n",
      "q_in > 1 2\n",
      "q_in > 1 3\n",
      "q_in > 1 5\n",
      "q_in > 1 7\n",
      "q_in > 1 10\n"
     ]
    }
   ],
   "source": [
    "for q_in in qins:\n",
    "    if q_in<1:\n",
    "        q_in_real = 1/int(1/q_in)\n",
    "        print(\"q_in = %s, q_in real = %s\" % (q_in,q_in_real))\n",
    "    else:\n",
    "        q_in_real = int(q_in)\n",
    "        print(\"q_in > 1\",int(q_in))"
   ]
  },
  {
   "cell_type": "markdown",
   "metadata": {},
   "source": [
    "Let's import the data for each run now:"
   ]
  },
  {
   "cell_type": "code",
   "execution_count": 7,
   "metadata": {},
   "outputs": [],
   "source": [
    "# data = dict([])\n",
    "# for run in runs:\n",
    "#     file = glob.glob(idir+run+'/*_scalars.h5')\n",
    "#     data[run] = read_dedalus(idir+run)"
   ]
  },
  {
   "cell_type": "markdown",
   "metadata": {
    "colab_type": "text",
    "id": "SIcO0LVq2nP2"
   },
   "source": [
    "Let's see what is in our imported variables.\n",
    "\n",
    "We saved the data in what's called a 'dictionary', which names its variables with strings. To see the experiments do the following:"
   ]
  },
  {
   "cell_type": "code",
   "execution_count": 8,
   "metadata": {
    "colab": {
     "base_uri": "https://localhost:8080/",
     "height": 34
    },
    "colab_type": "code",
    "collapsed": false,
    "id": "kyfd9qwcz7lI",
    "jupyter": {
     "outputs_hidden": false
    },
    "outputId": "4dff24d4-f40e-4b02-b743-0df046e92fc1"
   },
   "outputs": [
    {
     "name": "stdout",
     "output_type": "stream",
     "text": [
      "q_1d359356e-01\n",
      "parameters\n",
      "<KeysViewHDF5 ['Nx', 'Ny', 'c_0', 'dt', 'f', 'q_in', 'rho', 'skipmax']>\n",
      "scalars\n",
      "<KeysViewHDF5 ['bed_activity', 'q_mid', 'q_out', 'time', 'tstep']>\n"
     ]
    }
   ],
   "source": [
    "for run in runs[1:2]:\n",
    "    fname = str(glob.glob(idir+run+'/*_scalars.h5')[0])\n",
    "    f = h5py.File(fname,'r')\n",
    "    print(run)\n",
    "    for subdat in f:\n",
    "        print(subdat)\n",
    "        print(f[subdat].keys())\n",
    "#         print(subdat['tasks'].keys())\n",
    "#         print(subdat['scales']['sim_time'][:])\n",
    "    f.close()"
   ]
  },
  {
   "cell_type": "code",
   "execution_count": 9,
   "metadata": {},
   "outputs": [],
   "source": [
    "# Scale for coloring:\n",
    "def cscale_qins(q_in,qins):\n",
    "    maxt = np.sqrt(np.max(qins))\n",
    "    mint = np.sqrt(np.min(qins))\n",
    "    return (np.sqrt(q_in) - mint)/(maxt-mint)"
   ]
  },
  {
   "cell_type": "markdown",
   "metadata": {
    "colab_type": "text",
    "id": "RediaYQd3Zq8"
   },
   "source": [
    "# Snapshots"
   ]
  },
  {
   "cell_type": "code",
   "execution_count": 17,
   "metadata": {},
   "outputs": [],
   "source": [
    "# # Get parameters:\n",
    "# fname = str(glob.glob(idir+run+'/*_scalars.h5')[0])\n",
    "# file = h5py.File(fname,'r')\n",
    "# file.close()"
   ]
  },
  {
   "cell_type": "code",
   "execution_count": 10,
   "metadata": {
    "colab": {
     "base_uri": "https://localhost:8080/",
     "height": 205
    },
    "colab_type": "code",
    "collapsed": false,
    "id": "KXk38yAm3YSN",
    "jupyter": {
     "outputs_hidden": false
    },
    "outputId": "995e5ef2-be47-4b73-fc19-1791f3e7153b"
   },
   "outputs": [
    {
     "name": "stdout",
     "output_type": "stream",
     "text": [
      "q_in = 0.1\n",
      "q_in real 0.1\n",
      "q_in = 0.13593563908785256\n",
      "q_in real 0.14285714285714285\n",
      "q_in = 0.18478497974222907\n",
      "q_in real 0.2\n",
      "q_in = 0.251188643150958\n",
      "q_in real 0.3333333333333333\n",
      "q_in = 0.34145488738336016\n",
      "q_in real 0.5\n",
      "q_in = 0.46415888336127786\n",
      "q_in real 0.5\n",
      "q_in = 0.6309573444801934\n",
      "q_in real 1.0\n",
      "q_in = 0.8576958985908941\n",
      "q_in real 1.0\n",
      "q_in = 1.1659144011798317\n",
      "q_in > 1 1\n",
      "q_in = 1.5848931924611134\n",
      "q_in > 1 1\n",
      "q_in = 2.1544346900318834\n",
      "q_in > 1 2\n",
      "q_in = 2.9286445646252357\n",
      "q_in > 1 2\n",
      "q_in = 3.981071705534973\n",
      "q_in > 1 3\n",
      "q_in = 5.411695265464638\n",
      "q_in > 1 5\n",
      "q_in = 7.3564225445964135\n",
      "q_in > 1 7\n",
      "q_in = 10.0\n",
      "q_in > 1 10\n"
     ]
    }
   ],
   "source": [
    "slopes = []\n",
    "qs = []\n",
    "# Choose run\n",
    "for ii,run in enumerate(runs):\n",
    "    q_in=qins[ii]\n",
    "#     if q_in<1e-1:\n",
    "#     if (q_in==0.07943282) or (q_in == 0.1):\n",
    "    # Get parameters:\n",
    "    fname = str(glob.glob(idir+run+'/*_scalars.h5')[0])\n",
    "    file = h5py.File(fname,'r')\n",
    "    Nx = file['parameters']['Nx'][()]\n",
    "    Ny = file['parameters']['Ny'][()]\n",
    "    c_0 = file['parameters']['c_0'][()]\n",
    "    f = file['parameters']['f'][()]\n",
    "    q_in = file['parameters']['q_in'][()]\n",
    "    skipmax = file['parameters']['skipmax'][()]\n",
    "    file.close()\n",
    "\n",
    "    # Initialize\n",
    "    set_q = ez.set_q(Nx, Ny, c_0, f, skipmax,q_in)\n",
    "\n",
    "    # Load data:\n",
    "    set_q.load_data(str(glob.glob(idir+run+'/*_state.h5')[0]))\n",
    "\n",
    "    # Plot\n",
    "    print(\"q_in = %s\" % q_in)\n",
    "    \n",
    "    if q_in<1:\n",
    "        q_in_real = 1/int(1/q_in)\n",
    "        print(\"q_in real\",q_in_real)\n",
    "    else:\n",
    "        q_in_real = int(q_in)\n",
    "        print(\"q_in > 1\",int(q_in))\n",
    "    qs.append(q_in_real)\n",
    "#     set_q.plot_min()\n",
    "\n",
    "    z_avg = np.mean(set_q.z[:,5:-5],axis=0)\n",
    "    x = np.arange(len(z_avg))\n",
    "    m,b = np.polyfit(x,z_avg,1)\n",
    "    slopes.append(m)\n",
    "\n",
    "# # Choose a snapshot\n",
    "# n_max = data[run][-1]['scales']['write_number'][-1]-1 # n_max is frame number, but with python we have to subtract one\n",
    "# n = n_max #100\n",
    "# s,n = snapshot_slice(n,data[run],'u')\n",
    "\n",
    "# # Read info:\n",
    "# time = data[run][s]['scales']['sim_time'][n]\n",
    "\n",
    "# # Define array for x and z axes\n",
    "# X = data[run][s]['scales']['x']['1.0'][:]\n",
    "# Z = data[run][s]['scales']['y']['1.0'][:]\n",
    "# L = H = round(np.max(X))\n",
    "# # H = round(2*np.max(Z))\n",
    "\n",
    "# # Choose quantity to look at\n",
    "# field = 'u'\n",
    "\n",
    "# plt_dat = np.transpose(data[run][s]['tasks'][field][n,:,:])\n",
    "\n",
    "# # Find max{|T'|} to make proper, symmetric colorbar:\n",
    "# cbarlim = np.max(np.abs(plt_dat))\n",
    "\n",
    "# # Plot!\n",
    "# size = 10\n",
    "# plt.figure(figsize=(size,size*(H/L)))\n",
    "# plt.pcolor(X,Z,plt_dat,vmin=-cbarlim,vmax=cbarlim,cmap='bwr')\n",
    "# cb=plt.colorbar()\n",
    "# cb.set_label(field)\n",
    "# ax=plt.gca()\n",
    "# ax.set_aspect(1)\n",
    "# # plt.title(r'$\\Omega = %.2f$, t = %.2f' % (var['Omega'],var['time'][n]),fontsize=18)\n",
    "# plt.title(r'time = %f' % time,fontsize=15)\n",
    "# plt.show()"
   ]
  },
  {
   "cell_type": "markdown",
   "metadata": {},
   "source": [
    "0.079 --> 186 iter/sec"
   ]
  },
  {
   "cell_type": "markdown",
   "metadata": {
    "colab_type": "text",
    "id": "bARgEvc199D9"
   },
   "source": [
    "# Time series"
   ]
  },
  {
   "cell_type": "markdown",
   "metadata": {},
   "source": [
    "$$ q^*_{in} = \\frac{q_{in}}{\\tilde{\\Delta t}_{s}} \\frac{4}{3} \\pi \\frac{1}{\\tilde{b}} \\left(\\frac{\\rho_w}{\\rho_s - \\rho_w}\\right)^{1/2}$$"
   ]
  },
  {
   "cell_type": "code",
   "execution_count": null,
   "metadata": {
    "colab": {
     "base_uri": "https://localhost:8080/",
     "height": 205
    },
    "colab_type": "code",
    "id": "KXk38yAm3YSN",
    "outputId": "995e5ef2-be47-4b73-fc19-1791f3e7153b"
   },
   "outputs": [],
   "source": [
    "qm = []\n",
    "qs = []\n",
    "for ii,run in enumerate(runs):\n",
    "    q_in=qins[ii]\n",
    "    #     if q_in>1:#\n",
    "#     if q_in<1e-1:\n",
    "    # Open \n",
    "    fname = str(glob.glob(idir+run+'/*_scalars.h5')[0])\n",
    "    file = h5py.File(fname,'r')\n",
    "\n",
    "    # Get parameters:\n",
    "    Nx = file['parameters']['Nx'][()]\n",
    "    Ny = file['parameters']['Ny'][()]\n",
    "    c_0 = file['parameters']['c_0'][()]\n",
    "    f = file['parameters']['f'][()]\n",
    "    q_in = file['parameters']['q_in'][()]\n",
    "    skipmax = file['parameters']['skipmax'][()]\n",
    "    rho = 0.8\n",
    "    dt = file['parameters']['dt'][()]\n",
    "    if q_in<1:\n",
    "        q_in_real = 1/int(1/q_in)\n",
    "        print(\"q_in real\",q_in_real)\n",
    "    else:\n",
    "        q_in_real = int(q_in)\n",
    "        print(\"q_in > 1\",int(q_in))\n",
    "\n",
    "    # Normalize\n",
    "    norm = dt**-1 * (4/3.) * np.pi * 1/float(Ny) * rho\n",
    "    q8_in = norm*q_in_real\n",
    "\n",
    "    # Get time-series ['bed_activity', 'q_out', 'time', 'tstep']\n",
    "    time = file['scalars']['time'][()]\n",
    "    tstep = file['scalars']['tstep'][()]\n",
    "    q_out = file['scalars']['q_out'][()]\n",
    "    q8_out = q_out*norm\n",
    "    bed_activity = file['scalars']['bed_activity'][()]\n",
    "\n",
    "    # Close file:\n",
    "    file.close()\n",
    "\n",
    "    # Data avg\n",
    "    qm.append(np.mean(q_out[-120:])/q_in_real)\n",
    "    qs.append(q_in_real)\n",
    "\n",
    "#     # plot\n",
    "#     plt.figure(1)\n",
    "#     plt.plot(q_out/q_in_real,'.-',color = ((ii+1)/len(runs),0,0,1),label=run)\n",
    "\n",
    "#     plt.figure(2)\n",
    "#     plt.semilogy(bed_activity,'.-',color = ((ii+1)/len(runs),0,0,1),label=run)\n",
    "\n",
    "#     plt.figure(3)\n",
    "#     if ii==0:\n",
    "#         plt.axhline(y=q8_in,color='k',ls='--',label=r'$q_{in}^*$',alpha=0.5)\n",
    "#     else:\n",
    "#         plt.axhline(y=q8_in,color='k',ls='--',alpha=0.5)\n",
    "#     plt.semilogy(q8_out,'.-',color = ((ii+1)/len(runs),0,0,1),label=run)\n",
    "\n",
    "plt.figure(1)\n",
    "plt.legend(loc=(1.01,0.0))\n",
    "plt.axhline(y=1,color='b')\n",
    "plt.ylim(0.0,1.5)\n",
    "# plt.xlabel(\"Time Step\")\n",
    "plt.ylabel(r\"$q_{out}/q_{in}$\")\n",
    "\n",
    "plt.figure(2)\n",
    "plt.legend(loc=(1.01,0.0))\n",
    "# plt.xlabel(\"Time Step\")\n",
    "plt.ylabel(r\"Bed Activity\")\n",
    "\n",
    "plt.figure(3)\n",
    "plt.legend(loc=(1.01,0.0))\n",
    "# plt.xlabel(\"Time Step\")\n",
    "plt.ylabel(r'$q_{out}^*$')\n",
    "# plt.ylim(2e-5,5e-2)\n",
    "# plt.ylim(2e-6,5e-3)\n",
    "plt.show()"
   ]
  },
  {
   "cell_type": "code",
   "execution_count": 13,
   "metadata": {},
   "outputs": [
    {
     "data": {
      "image/png": "[encoded data removed]",
      "text/plain": [
       "<Figure size 576x432 with 1 Axes>"
      ]
     },
     "metadata": {
      "needs_background": "light"
     },
     "output_type": "display_data"
    }
   ],
   "source": [
    "plt.figure(figsize=(8,6))\n",
    "plt.semilogx(qs,qm,'ok')\n",
    "plt.axhline(y=1,c='r',ls='--')\n",
    "plt.xlabel(r\"$q_{in}$\",fontsize=20)\n",
    "plt.ylabel(r\"$q_{out}/q_{in}$\",fontsize=20)\n",
    "plt.ylim(0.5,1.1)\n",
    "plt.show()"
   ]
  },
  {
   "cell_type": "code",
   "execution_count": 11,
   "metadata": {},
   "outputs": [
    {
     "name": "stderr",
     "output_type": "stream",
     "text": [
      "findfont: Font family ['serif'] not found. Falling back to DejaVu Sans.\n"
     ]
    },
    {
     "data": {
      "image/png": "[encoded data removed]",
      "text/plain": [
       "<Figure size 432x288 with 1 Axes>"
      ]
     },
     "metadata": {
      "needs_background": "light"
     },
     "output_type": "display_data"
    }
   ],
   "source": [
    "slope_c = np.sqrt((1/(9*set_q.c_0**2))-1)\n",
    "\n",
    "plt.semilogx(qs,slopes,'ok')\n",
    "# plt.axhline(y=-slope_c,c='r',ls='--')\n",
    "plt.xlabel(r\"$q_{in}$\")\n",
    "plt.ylabel(r\"Equil Slope\")\n",
    "plt.show()"
   ]
  },
  {
   "cell_type": "code",
   "execution_count": null,
   "metadata": {},
   "outputs": [],
   "source": []
  }
 ],
 "metadata": {
  "colab": {
   "collapsed_sections": [],
   "name": "Data_Visualization.ipynb",
   "provenance": [],
   "toc_visible": true
  },
  "kernelspec": {
   "display_name": "ez",
   "language": "python",
   "name": "ez"
  },
  "language_info": {
   "codemirror_mode": {
    "name": "ipython",
    "version": 3
   },
   "file_extension": ".py",
   "mimetype": "text/x-python",
   "name": "python",
   "nbconvert_exporter": "python",
   "pygments_lexer": "ipython3",
   "version": "3.8.5"
  }
 },
 "nbformat": 4,
 "nbformat_minor": 4
}
